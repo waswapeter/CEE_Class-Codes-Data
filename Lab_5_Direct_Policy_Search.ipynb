{
  "cells": [
    {
      "cell_type": "markdown",
      "metadata": {
        "id": "view-in-github",
        "colab_type": "text"
      },
      "source": [
        "<a href=\"https://colab.research.google.com/github/m-zaniolo/CEE690-ESAA/blob/main/Lab_5_Direct_Policy_Search.ipynb\" target=\"_parent\"><img src=\"https://colab.research.google.com/assets/colab-badge.svg\" alt=\"Open In Colab\"/></a>"
      ]
    },
    {
      "cell_type": "markdown",
      "metadata": {
        "id": "_v76eZwKcCcj"
      },
      "source": [
        "# Lab 5 - Direct policy search"
      ]
    },
    {
      "cell_type": "markdown",
      "metadata": {
        "id": "_gVwMLxocSUf"
      },
      "source": [
        "Load data"
      ]
    },
    {
      "cell_type": "code",
      "execution_count": null,
      "metadata": {
        "id": "wv-jfLPNcsKd"
      },
      "outputs": [],
      "source": [
        "import matplotlib.pyplot as plt\n",
        "import numpy as np\n",
        "import pandas as pd\n",
        "plt.rcParams['figure.dpi'] = 300\n",
        "plt.rcParams['figure.figsize'] = (10, 4)\n",
        "\n",
        "\n",
        "url = 'https://raw.githubusercontent.com/m-zaniolo/CEE690-ESAA/main/data/'\n",
        "inflow = np.loadtxt(url + 'inflow.txt', delimiter='\\t') #m3/s\n",
        "\n",
        "# generate date array\n",
        "# Generate the full date range from January 1, 2001, to December 31, 2015\n",
        "date_range = pd.date_range(start='2001-01-01', end='2015-12-31', freq='D')\n",
        "\n",
        "# Filter out all February 29 instances\n",
        "date_range = date_range[~((date_range.month == 2) & (date_range.day == 29))]"
      ]
    },
    {
      "cell_type": "markdown",
      "metadata": {
        "id": "fOxzPyktlvmY"
      },
      "source": [
        "\n",
        "\n",
        "---\n",
        "\n"
      ]
    },
    {
      "cell_type": "markdown",
      "metadata": {
        "id": "wdTF-xkDgB_Y"
      },
      "source": [
        "Let's code a standard operating policy where the release decision u(t) is a function of the storage s(t)"
      ]
    },
    {
      "cell_type": "code",
      "execution_count": null,
      "metadata": {
        "id": "_dBX6TYJgN2A"
      },
      "outputs": [],
      "source": [
        "sim_step = 60*60*24\n",
        "S = 1e10 #reservoir max capacity\n",
        "D = 200*sim_step    # water demand, m3/day.\n",
        "\n",
        "#let's work in m3/day just so parameters are easier to type.\n",
        "\n",
        "#operating policy #1\n",
        "theta = [0.004, -3e7, 0.007]\n",
        "\n",
        "\n",
        "s_values = np.arange(0, S, 10e3) #just over max storage\n",
        "L1 = theta[0]*s_values\n",
        "L2 = D*np.ones((len(s_values),))\n",
        "L3 = theta[1] + s_values*theta[2]\n",
        "\n",
        "fig, ax = plt.subplots()\n",
        "plt.plot(s_values, L1, color = 'r')\n",
        "plt.plot(s_values, L2, color = 'y')\n",
        "plt.plot(s_values, L3, color = 'g')\n",
        "plt.ylim(0, np.max(L3))\n",
        "plt.ylabel('release [m3/day]')\n",
        "plt.xlabel('storage [m3]')\n"
      ]
    },
    {
      "cell_type": "markdown",
      "metadata": {
        "id": "KDrSGBk7kFCX"
      },
      "source": [
        "release decision is determined as:"
      ]
    },
    {
      "cell_type": "code",
      "execution_count": null,
      "metadata": {
        "id": "4K3V2rLHkSQi"
      },
      "outputs": [],
      "source": [
        "u_t = np.maximum( np.minimum(L1, L2), L3 ) # element-wise max/minimum\n",
        "max_release = 400 * sim_step\n",
        "\n",
        "plt.plot(s_values, u_t)\n",
        "plt.plot(s_values, s_values*(max_release/S), '--')\n",
        "\n",
        "r_tp = np.maximum( np.minimum(u_t, s_values*(max_release/S)), 0)\n",
        "\n",
        "plt.plot(s_values, r_tp)\n",
        "plt.legend(['u_t', 'physical constraints', 'r_t+1'])"
      ]
    },
    {
      "cell_type": "markdown",
      "metadata": {
        "id": "fvqTGYNldHLW"
      },
      "source": [
        "#how does this policy perform?\n",
        "\n",
        "1) Define parameters for reservoir simulation"
      ]
    },
    {
      "cell_type": "code",
      "execution_count": null,
      "metadata": {
        "id": "d2axHIL5Pr_s"
      },
      "outputs": [],
      "source": [
        "H = len(inflow) #length of the simulation horizon\n",
        "evap = np.loadtxt(url + 'netevap_Gibe1.txt', delimiter=' ') # load cyclostationary evaporation\n",
        "\n",
        "s0 = S*0.7 # for example, let's inizialize storage value at 70% of the max capacity\n",
        "stor_to_surface = 0.0142\n",
        "# stor_to_level = 0.0521*storage^0.3589\n",
        "\n",
        "Ny = H/365\n",
        "\n"
      ]
    },
    {
      "cell_type": "markdown",
      "metadata": {
        "id": "fxb-i7NfIF9b"
      },
      "source": [
        "2) implement reservoir simulation function:"
      ]
    },
    {
      "cell_type": "code",
      "execution_count": null,
      "metadata": {
        "id": "ZqjH9cQmfLVB"
      },
      "outputs": [],
      "source": [
        "def simulate(theta):\n",
        "\n",
        "  # time convention\n",
        "  inflow_ = np.concatenate(([-999], inflow)) * sim_step\n",
        "\n",
        "  # initialize storage vector\n",
        "  s = np.zeros(len(inflow_))\n",
        "  l = np.zeros(len(inflow_)) ### new\n",
        "  r = np.zeros(len(inflow_)) ### new\n",
        "  u = np.zeros(len(inflow_)) ### new\n",
        "\n",
        "  s[0] = S*0.7\n",
        "  l[0] = 0.0521*(s[0]**0.3589)   ### calculate level\n",
        "\n",
        "\n",
        "  # mass balance\n",
        "  for t in range(H):\n",
        "    evaporation_t = evap[t%365]/1000*s[t]*stor_to_surface\n",
        "\n",
        "    #### new - policy as a piecewise linear function. Substitute s_values with s[t]\n",
        "    L1 = theta[0]*s[t]\n",
        "    L2 = D\n",
        "    L3 = theta[1] + s[t]*theta[2]\n",
        "\n",
        "    u[t] = max( min(L1, L2), L3 )\n",
        "    r[t+1] = max( min( u[t], s[t]*(max_release/S)),  0)\n",
        "\n",
        "    s[t+1] = s[t] + inflow_[t+1] - r[t+1] - evaporation_t # we corrected for sim_step above\n",
        "\n",
        "    # check minimum storage constraint\n",
        "    s[t+1] = max(0, s[t+1])\n",
        "    l[t+1] = 0.0521*(s[t+1]**0.3589)   ### calculate level\n",
        "    s[t+1] = min(s[t+1], S) #check max storage constraint\n",
        "\n",
        "  #indicator 1: flood days\n",
        "  l_threshold = 0.0521*(S**0.3589) #obtain maximum level threshold from max storage\n",
        "  i1 = np.sum(l > l_threshold)/Ny\n",
        "\n",
        "  #indicator 2: water demand deficit\n",
        "  i2 = sum ( (np.maximum(D - r[1:] , 0)/sim_step) **2 ) / Ny\n",
        "\n",
        "  return i1, i2, s[:-1], l[:-1], r[1:], u[:-1]\n",
        "\n"
      ]
    },
    {
      "cell_type": "code",
      "execution_count": null,
      "metadata": {
        "id": "cE57qfKSm_dZ"
      },
      "outputs": [],
      "source": [
        "# call this function as:\n",
        "i1, i2, s, l, r, u = simulate(theta)\n",
        "plt.subplot(3,1,1)\n",
        "plt.plot(date_range, l)\n",
        "l_threshold = 0.0521*(S**0.3589)\n",
        "plt.plot(date_range, l_threshold*np.ones(H), '--')\n",
        "plt.legend(['level', 'flood threshold'])\n",
        "plt.ylim([0, 210])\n",
        "\n",
        "\n",
        "plt.subplot(3,1,2)\n",
        "plt.plot(date_range, inflow*sim_step)\n",
        "plt.plot(date_range, r)\n",
        "plt.plot(date_range, u)\n",
        "plt.plot(date_range, D*np.ones(H), '--')\n",
        "plt.legend(['inflow', 'r[t+1]', 'u[t]', 'demand'])\n",
        "\n",
        "\n",
        "\n",
        "\n",
        "print(i1, i2)"
      ]
    },
    {
      "cell_type": "code",
      "source": [
        "plt.scatter(s, u/sim_step)\n",
        "plt.xlim([0,S])"
      ],
      "metadata": {
        "id": "25t_rc9AREXo"
      },
      "execution_count": null,
      "outputs": []
    },
    {
      "cell_type": "markdown",
      "metadata": {
        "id": "tyd6aB-fI4E0"
      },
      "source": [
        "###Let's use MOEAs to optimize policy parameters"
      ]
    },
    {
      "cell_type": "code",
      "execution_count": null,
      "metadata": {
        "id": "wdntR1M8I9yg"
      },
      "outputs": [],
      "source": [
        "!pip install platypus-opt"
      ]
    },
    {
      "cell_type": "markdown",
      "metadata": {
        "id": "wwefbCUmOgWb"
      },
      "source": [
        "Rewrite the simulation function with just indicators as outputs"
      ]
    },
    {
      "cell_type": "code",
      "execution_count": null,
      "metadata": {
        "id": "0a5ZfFqwOdI7"
      },
      "outputs": [],
      "source": [
        "def simulate_MOEA(theta):\n",
        "\n",
        "  # time convention\n",
        "  inflow_ = np.concatenate(([-999], inflow)) * sim_step\n",
        "\n",
        "  # initialize storage vector\n",
        "  s = np.zeros(len(inflow_))\n",
        "  l = np.zeros(len(inflow_)) ### new\n",
        "  r = np.zeros(len(inflow_)) ### new\n",
        "\n",
        "  s[0] = S*0.7\n",
        "  l[0] = 0.0521*(s[0]**0.3589)   ### calculate level\n",
        "\n",
        "  # mass balance\n",
        "  for t in range(H):\n",
        "    evaporation_t = evap[t%365]/1000*s[t]*stor_to_surface\n",
        "\n",
        "    #### new - policy as a piecewise linear function. Substitute s_values with s[t]\n",
        "    L1 = theta[0]*s[t]\n",
        "    L2 = D\n",
        "    L3 = theta[1] + s[t]*theta[2]\n",
        "\n",
        "    u_t = np.maximum( np.minimum(L1, L2), L3 ) # element-wise max/minimum\n",
        "    r[t+1] = max( min( u_t, s[t]*(max_release/S)),  0)\n",
        "\n",
        "    s[t+1] = s[t] + inflow_[t+1] - r[t+1] - evaporation_t # we corrected for sim_step above\n",
        "\n",
        "    # check minimum storage constraint\n",
        "    s[t+1] = max(0, s[t+1])\n",
        "    l[t+1] = 0.0521*(s[t+1]**0.3589)   ### calculate level\n",
        "    s[t+1] = min(s[t+1], S) #check max storage constraint\n",
        "\n",
        "  #indicator 1: flood days\n",
        "  l_threshold = 0.0521*(S**0.3589) #obtain maximum level threshold from max storage\n",
        "  i1 = np.sum(l > l_threshold)/Ny\n",
        "\n",
        "  #indicator 2: water demand deficit\n",
        "  i2 = sum ( (np.maximum(D - r[1:] , 0)/sim_step) **2 ) / Ny\n",
        "\n",
        "  return i1, i2"
      ]
    },
    {
      "cell_type": "code",
      "execution_count": null,
      "metadata": {
        "id": "QFSOIPShJIh5"
      },
      "outputs": [],
      "source": [
        "from platypus import NSGAII, Problem, Real\n",
        "\n",
        "problem = Problem(3, 2) # three decision variables, 2 objectives\n",
        "lb = [0, -1e10, 0]\n",
        "ub = [0.1, 0, 0.1]\n",
        "\n",
        "\n",
        "problem.types[0] = Real(lb[0], ub[0])\n",
        "problem.types[1] = Real(lb[1], ub[1])\n",
        "problem.types[2] = Real(lb[2], ub[2])\n",
        "\n",
        "problem.function = simulate_MOEA\n",
        "algorithm = NSGAII(problem)\n",
        "\n",
        "#Optimize the problem using max_NFE function evaluations\n",
        "max_NFE = 1000 # try changing this!\n",
        "algorithm.run(max_NFE)\n",
        "\n",
        "#Convert results to numpy arrays\n",
        "\n",
        "J = np.array([s.objectives for s in algorithm.result])\n",
        "theta_sol = np.array([s.variables for s in algorithm.result])\n",
        "\n",
        "\n",
        "plt.figure(figsize=(8, 3))\n",
        "plt.scatter(J[:,0],J[:,1])\n",
        "plt.xlabel('flood days')\n",
        "plt.ylabel('agricultural deficit')\n",
        "plt.title('Pareto Front')\n",
        "plt.show()"
      ]
    },
    {
      "cell_type": "markdown",
      "source": [
        "Your solution set may contain dominated or semi-dominated solutions.\n",
        "We can use the function generated last time to select non-dominated solutions only."
      ],
      "metadata": {
        "id": "CPpEvDQDIKIE"
      }
    },
    {
      "cell_type": "code",
      "source": [
        "#Identifying the Pareto front from a set of possible points. Assumes minimization\n",
        "\n",
        "def dominates(a,b): # function that checks if a dominates b\n",
        "  return (np.all(a <= b) and np.any(a < b))\n",
        "\n",
        "#The function pareto_sort accepts a matrix of points, returns a matrix of only the nondominated ones. It is not the most efficient method to do this.\n",
        "#keep is an array of booleans used to index the matrix at the end\n",
        "\n",
        "def pareto_sort(P):\n",
        "    N = len(P)\n",
        "    keep = np.ones(N, dtype=bool) # all True to start\n",
        "\n",
        "    for i in range(N):\n",
        "        for j in range(i+1,N):\n",
        "            if keep[j] and dominates(P[i,:], P[j,:]):\n",
        "                keep[j] = False\n",
        "\n",
        "            elif keep[i] and dominates(P[j,:], P[i,:]):\n",
        "                keep[i] = False\n",
        "\n",
        "    return P[keep,:] # only keeping the nondominated points"
      ],
      "metadata": {
        "id": "On89hZpLIR4B"
      },
      "execution_count": null,
      "outputs": []
    },
    {
      "cell_type": "code",
      "execution_count": null,
      "metadata": {
        "id": "vDroJjlioWQh"
      },
      "outputs": [],
      "source": [
        "J_opt = pareto_sort(J)\n",
        "\n",
        "plt.figure(figsize=(8, 3))\n",
        "plt.scatter(J_opt[:,0],J_opt[:,1])\n",
        "plt.xlabel('flood days')\n",
        "plt.ylabel('agricultural deficit')\n",
        "plt.title('Pareto Front')\n",
        "plt.show()"
      ]
    },
    {
      "cell_type": "code",
      "source": [
        "print(theta_sol[0])"
      ],
      "metadata": {
        "id": "9jm6Hn88PAU7"
      },
      "execution_count": null,
      "outputs": []
    },
    {
      "cell_type": "code",
      "execution_count": null,
      "metadata": {
        "id": "eoorcdffQDML"
      },
      "outputs": [],
      "source": [
        "theta_visualize = theta_sol[0]\n",
        "\n",
        "i1, i2, s, l, r, u = simulate(theta_visualize)\n",
        "plt.figure(figsize=(8, 8))\n",
        "\n",
        "plt.subplot(3,1,1)\n",
        "plt.plot(r/sim_step)\n",
        "plt.plot(inflow)\n",
        "plt.plot(D*np.ones(H)/sim_step, '--')\n",
        "\n",
        "plt.subplot(3,1,2)\n",
        "plt.plot(l)\n",
        "plt.ylim([0,210])\n",
        "plt.plot(l_threshold*np.ones(H))\n",
        "\n",
        "plt.subplot(3,1,3)\n",
        "L1 = theta_visualize[0]*s_values\n",
        "L2 = D*np.ones((len(s_values),))\n",
        "L3 = theta_visualize[1] + s_values*theta_visualize[2]\n",
        "\n",
        "u_t = np.maximum( np.minimum(L1, L2), L3 ) # element-wise max/minimum\n",
        "r_tp = np.maximum( np.minimum(u_t, s_values*(max_release/S)), 0)\n",
        "\n",
        "plt.plot(s_values, u_t)\n",
        "plt.plot(s_values, s_values*(max_release/S))\n",
        "plt.plot(s_values, r_tp)\n",
        "plt.ylim([0,1e8])\n",
        "plt.legend(['u_t', 'physical constraints', 'r_t+1'])\n",
        "\n",
        "\n",
        "print(i1, i2)"
      ]
    },
    {
      "cell_type": "markdown",
      "metadata": {
        "id": "IiW9soqFtwce"
      },
      "source": [
        "What if we considered more objectives?"
      ]
    },
    {
      "cell_type": "code",
      "execution_count": null,
      "metadata": {
        "id": "_uH3Hzwwt8b5"
      },
      "outputs": [],
      "source": [
        "def simulate_MOEA_4obj(theta):\n",
        "\n",
        "  # time convention\n",
        "  inflow_ = np.concatenate(([-999], inflow)) * sim_step\n",
        "\n",
        "  # initialize storage vector\n",
        "  s = np.zeros(len(inflow_))\n",
        "  l = np.zeros(len(inflow_)) ### new\n",
        "  r = np.zeros(len(inflow_)) ### new\n",
        "\n",
        "  s[0] = S*0.7\n",
        "  l[0] = 0.0521*(s[0]**0.3589)   ### calculate level\n",
        "\n",
        "  # mass balance\n",
        "  for t in range(H):\n",
        "    evaporation_t = evap[t%365]/1000*s[t]*stor_to_surface\n",
        "\n",
        "    #### new - policy as a piecewise linear function. Substitute s_values with s[t]\n",
        "    L1 = theta[0]*s[t]\n",
        "    L2 = D\n",
        "    L3 = theta[1] + s[t]*theta[2]\n",
        "\n",
        "    u_t = np.maximum( np.minimum(L1, L2), L3 ) # element-wise max/minimum\n",
        "    r[t+1] = max( min( u_t, s[t]*(max_release/S)),  0)\n",
        "\n",
        "    s[t+1] = s[t] + inflow_[t+1] - r[t+1] - evaporation_t # we corrected for sim_step above\n",
        "\n",
        "    # check minimum storage constraint\n",
        "    s[t+1] = max(0, s[t+1])\n",
        "    l[t+1] = 0.0521*(s[t+1]**0.3589)   ### calculate level\n",
        "    s[t+1] = min(s[t+1], S) #check max storage constraint\n",
        "\n",
        "  #indicator 1: flood days\n",
        "  l_threshold = 0.0521*(S**0.3589) #obtain maximum level threshold from max storage\n",
        "  i1 = np.sum(l > l_threshold)/Ny\n",
        "\n",
        "  #indicator 2: water demand deficit\n",
        "  i2 = sum ( (np.maximum(D - r[1:] , 0)/sim_step) **2 ) / Ny\n",
        "\n",
        "  #indicator 3: hydropower production\n",
        "\n",
        "\n",
        "  #indicator 4: minimize annual oscillation in lake level (e.g., for navigation)\n",
        "\n",
        "\n",
        "  return i1, i2, i3, i4\n"
      ]
    },
    {
      "cell_type": "code",
      "source": [
        "#test with policies you generated before\n",
        "i1, i2, i3, i4 = simulate_MOEA_4obj(theta_sol[0])"
      ],
      "metadata": {
        "id": "2W3pPnlfYNnh"
      },
      "execution_count": null,
      "outputs": []
    },
    {
      "cell_type": "markdown",
      "source": [
        "## Now use DPS optimal solutions according to 4 objectives"
      ],
      "metadata": {
        "id": "Ego8ixsQZPcF"
      }
    },
    {
      "cell_type": "code",
      "source": [
        "problem = ???\n"
      ],
      "metadata": {
        "id": "-r_BAS2DZO56"
      },
      "execution_count": null,
      "outputs": []
    },
    {
      "cell_type": "markdown",
      "source": [
        "## display your solutions with a parallel plot"
      ],
      "metadata": {
        "id": "D89dwofMZ2M6"
      }
    },
    {
      "cell_type": "code",
      "source": [
        "# Normalize the data to 0-1 range for each dimension.\n",
        "data_normalized = (J - J.min(axis=0)) / (J.max(axis=0) - J.min(axis=0))\n",
        "\n",
        "# Number of variables\n",
        "num_vars = J.shape[1]\n",
        "\n",
        "# Set up the plot\n",
        "fig, ax = plt.subplots(figsize=(10, 4))\n",
        "\n",
        "# Get a colormap (Blues) and normalize the first column for color mapping\n",
        "norm = plt.Normalize(J[:, 0].min(), J[:, 0].max())\n",
        "cmap = plt.cm.plasma\n",
        "\n",
        "# Plot each data point with color based on the value in the first column\n",
        "for i in range(len(data_normalized)):\n",
        "    color = cmap(norm(J[i, 0]))  # Get color for each line based on the first column\n",
        "    ax.plot(range(num_vars), data_normalized[i, :], marker='o', color=color)\n",
        "\n",
        "\n",
        "\n",
        "\n",
        "# Set the ticks and labels\n",
        "ax.set_xticks(range(num_vars))\n",
        "ax.set_xticklabels(['flood days', 'water deficit', 'hydropower', 'level oscillation'])\n",
        "ax.set_xlim([0, num_vars - 1])\n",
        "\n",
        "# Add grid lines for better readability\n",
        "ax.grid(True)\n",
        "\n",
        "# Set axis labels\n",
        "ax.set_xlabel('Variables')\n",
        "ax.set_ylabel('Normalized Value (direction of preference down)')\n",
        "\n",
        "# Add a title\n",
        "plt.title('Parallel Coordinates Plot')\n",
        "\n",
        "plt.show()\n"
      ],
      "metadata": {
        "id": "0irsXW2jZwqs"
      },
      "execution_count": null,
      "outputs": []
    }
  ],
  "metadata": {
    "colab": {
      "provenance": [],
      "authorship_tag": "ABX9TyObKqH19/abJUecswsA5Jar",
      "include_colab_link": true
    },
    "kernelspec": {
      "display_name": "Python 3",
      "name": "python3"
    },
    "language_info": {
      "name": "python"
    }
  },
  "nbformat": 4,
  "nbformat_minor": 0
}