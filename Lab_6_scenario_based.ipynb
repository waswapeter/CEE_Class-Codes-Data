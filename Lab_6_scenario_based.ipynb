{
  "cells": [
    {
      "cell_type": "markdown",
      "metadata": {
        "id": "view-in-github",
        "colab_type": "text"
      },
      "source": [
        "<a href=\"https://colab.research.google.com/github/m-zaniolo/CEE690-ESAA/blob/main/Lab_6_scenario_based.ipynb\" target=\"_parent\"><img src=\"https://colab.research.google.com/assets/colab-badge.svg\" alt=\"Open In Colab\"/></a>"
      ]
    },
    {
      "cell_type": "markdown",
      "id": "identical-booking",
      "metadata": {
        "id": "identical-booking"
      },
      "source": [
        "\n",
        "# Lab 6 - download and analyze climate projections\n",
        "_____________\n"
      ]
    },
    {
      "cell_type": "code",
      "execution_count": null,
      "id": "artificial-energy",
      "metadata": {
        "id": "artificial-energy"
      },
      "outputs": [],
      "source": [
        "import numpy as np\n",
        "import matplotlib.pyplot as plt\n",
        "plt.rcParams['figure.dpi'] = 600\n",
        "import pandas as pd"
      ]
    },
    {
      "cell_type": "markdown",
      "id": "functioning-creek",
      "metadata": {
        "id": "functioning-creek"
      },
      "source": [
        "## _Climate change - analyze data_\n",
        "\n",
        "Streamflow projections for the Colorado River at the Grand Canyon from USBR database.\n",
        "\n",
        "Load data. Combine first three columns into a datetime index."
      ]
    },
    {
      "cell_type": "code",
      "execution_count": null,
      "id": "three-bracket",
      "metadata": {
        "id": "three-bracket"
      },
      "outputs": [],
      "source": [
        "url = 'https://raw.githubusercontent.com/m-zaniolo/CEE690-ESAA/main/data/'\n",
        "\n",
        "# Step 1: Download the zip file\n",
        "!wget -O streamflow_data.zip https://raw.githubusercontent.com/m-zaniolo/CEE690-ESAA/main/data/streamflow_cmip5_ncar_day_GRAND.csv.zip\n",
        "\n",
        "# Step 2: Unzip the file\n",
        "!unzip streamflow_data.zip -d content/\n",
        "\n",
        "df = pd.read_csv('content/streamflow_cmip5_ncar_day_GRAND-2.csv',\n",
        "                  index_col='datetime',\n",
        "                  parse_dates={'datetime': [0,1,2]})"
      ]
    },
    {
      "cell_type": "markdown",
      "id": "downtown-scenario",
      "metadata": {
        "id": "downtown-scenario"
      },
      "source": [
        "Example - filter columns"
      ]
    },
    {
      "cell_type": "code",
      "execution_count": null,
      "id": "weighted-product",
      "metadata": {
        "id": "weighted-product"
      },
      "outputs": [],
      "source": [
        "#filter by RCP\n",
        "df_rcp85 = df.filter(like='rcp85')\n",
        "\n",
        "#filter by product\n",
        "df_rcp85_miroc = df_rcp85.filter(like='miroc')\n"
      ]
    },
    {
      "cell_type": "markdown",
      "source": [
        "Let's see how the daily projections look like:"
      ],
      "metadata": {
        "id": "ilLdTlHZbL3W"
      },
      "id": "ilLdTlHZbL3W"
    },
    {
      "cell_type": "code",
      "source": [
        "df_rcp85_miroc.plot()"
      ],
      "metadata": {
        "id": "R4P8g-XMbPv0"
      },
      "id": "R4P8g-XMbPv0",
      "execution_count": null,
      "outputs": []
    },
    {
      "cell_type": "markdown",
      "id": "QkbDLtjc3gSG",
      "metadata": {
        "id": "QkbDLtjc3gSG"
      },
      "source": [
        "### Annual data ###\n",
        "\n",
        "It's hard to spot trends with daily timeseries. Pandas is really convenient for processing timeseries because it has several built-in methods to aggregate and resample data.\n",
        "\n",
        "We will use: `resample` and `rolling`"
      ]
    },
    {
      "cell_type": "code",
      "source": [
        "annual_df = df.resample('YE').sum() #sum daily values to annual values\n",
        "# It is still hard to interpret trends from annual values\n",
        "\n",
        "# if we plot the three projections from before:\n",
        "df_rcp85_miroc.resample('YE').sum().plot()\n"
      ],
      "metadata": {
        "id": "fdqCAjatfCvX"
      },
      "id": "fdqCAjatfCvX",
      "execution_count": null,
      "outputs": []
    },
    {
      "cell_type": "markdown",
      "source": [
        "We can better grasp trends with rolling window mean"
      ],
      "metadata": {
        "id": "o886yllBf4j_"
      },
      "id": "o886yllBf4j_"
    },
    {
      "cell_type": "code",
      "execution_count": null,
      "id": "TnkYHIZu3frL",
      "metadata": {
        "id": "TnkYHIZu3frL"
      },
      "outputs": [],
      "source": [
        "annual_df = df.resample('YE').sum() #sum daily values to annual values\n",
        "annual_df_rol20 = annual_df.rolling(window = 20).mean() #rolling window of 20 years, take avg value\n",
        "mean_projection = annual_df_rol20.mean(axis = 1)\n",
        "\n",
        "annual_df_rol20.plot(legend=None)\n",
        "mean_projection.plot(color = 'k')\n",
        "plt.title('Colorado River @ Grand Canyon - NCAR CMIP5 Projections')\n",
        "plt.ylabel('Annual Streamflow (cfs)')\n",
        "plt.show()\n"
      ]
    },
    {
      "cell_type": "markdown",
      "source": [
        "Example: filter by RCP (2.6, 4.5, 6, 8.5) and plot each projection with a different color"
      ],
      "metadata": {
        "id": "NiZ_65ZC5LuH"
      },
      "id": "NiZ_65ZC5LuH"
    },
    {
      "cell_type": "code",
      "source": [
        "#\n",
        "annual_df_rcp26 = annual_df_rol20.filter(like='rcp26')\n",
        "annual_df_rcp45 = annual_df_rol20.filter(like='rcp45')\n",
        "annual_df_rcp60 = annual_df_rol20.filter(like='rcp60')\n",
        "annual_df_rcp85 = annual_df_rol20.filter(like='rcp85')\n",
        "\n",
        "# Create a new figure and axis for the plot\n",
        "fig, ax = plt.subplots(figsize=(10, 6))\n",
        "\n",
        "# Plot each DataFrame on the same axis with different colors\n",
        "annual_df_rcp26.plot(ax=ax, legend=None, color='green')\n",
        "annual_df_rcp45.plot(ax=ax, legend=None, color='yellow')\n",
        "annual_df_rcp60.plot(ax=ax, legend=None, color='blue')\n",
        "annual_df_rcp85.plot(ax=ax, legend=None, color='red')\n",
        "\n",
        "# Add plot details\n",
        "ax.set_xlabel('Year')\n",
        "ax.set_ylabel('Annual Streamflow (cfs)')\n",
        "plt.title('Colorado River @ Grand Canyon - NCAR CMIP5 Projections by RCP')\n",
        "ax.grid(True)  # Optional: add a grid for readability\n",
        "\n",
        "plt.show()\n",
        "\n",
        "\n"
      ],
      "metadata": {
        "id": "lDhtwqbU5KaV"
      },
      "id": "lDhtwqbU5KaV",
      "execution_count": null,
      "outputs": []
    },
    {
      "cell_type": "markdown",
      "source": [
        "---"
      ],
      "metadata": {
        "id": "ArYmtnRKhOqQ"
      },
      "id": "ArYmtnRKhOqQ"
    },
    {
      "cell_type": "markdown",
      "source": [
        "##Indicators##"
      ],
      "metadata": {
        "id": "5YBNPn9u9Bpr"
      },
      "id": "5YBNPn9u9Bpr"
    },
    {
      "cell_type": "markdown",
      "id": "careful-mining",
      "metadata": {
        "id": "careful-mining"
      },
      "source": [
        "Annual peak flow"
      ]
    },
    {
      "cell_type": "code",
      "execution_count": null,
      "id": "loving-haiti",
      "metadata": {
        "id": "loving-haiti"
      },
      "outputs": [],
      "source": [
        "#annual max - hint: resample over the year, aggregate with the max,\n",
        "# and then show the trend with a rolling mean\n",
        "annual_max_df =\n",
        "annual_max_df_roll20 =\n",
        "\n",
        "#let's just focus on the two extreme RCP to identify any differences\n",
        "annual_max_df_roll20_rcp26 = annual_max_df_roll20.filter(like = 'rcp26')\n",
        "annual_max_df_roll20_rcp85 = annual_max_df_roll20.filter(like = 'rcp85')\n",
        "\n",
        "fig, ax = plt.subplots(figsize=(10, 6))\n",
        "\n",
        "# Plot each DataFrame on the same axis with different colors\n",
        "annual_max_df_roll20_rcp26.plot(ax=ax, legend=None, color='green')\n",
        "annual_max_df_roll20_rcp85.plot(ax=ax, legend=None, color='red')\n"
      ]
    },
    {
      "cell_type": "markdown",
      "source": [
        "Generate a boxplot for these values:"
      ],
      "metadata": {
        "id": "gA2W4J8-ATb4"
      },
      "id": "gA2W4J8-ATb4"
    },
    {
      "cell_type": "code",
      "source": [
        "# Extract all values from each DataFrame and flatten them into single arrays\n",
        "data_rcp26 = annual_max_df_roll20_rcp26.values[-20:].flatten() #focus on the last 20 years of data (end of century)\n",
        "data_rcp85 = annual_max_df_roll20_rcp85.values[-20:].flatten()\n",
        "\n",
        "# Plot box plots for each dataset side-by-side\n",
        "plt.figure(figsize=(8, 5))\n",
        "plt.boxplot([data_rcp26, data_rcp85], labels=['RCP26', 'RCP85'],  widths=0.5)\n",
        "\n",
        "# Customize plot appearance\n",
        "plt.ylabel('Annual Max Value')\n",
        "plt.title('Distribution of Annual Maximum Values')\n",
        "\n",
        "plt.show()"
      ],
      "metadata": {
        "id": "7aBlqoZoATB1"
      },
      "id": "7aBlqoZoATB1",
      "execution_count": null,
      "outputs": []
    },
    {
      "cell_type": "markdown",
      "source": [
        "---"
      ],
      "metadata": {
        "id": "EgKoGiXWhTmb"
      },
      "id": "EgKoGiXWhTmb"
    },
    {
      "cell_type": "markdown",
      "source": [
        "### Trend"
      ],
      "metadata": {
        "id": "-KWkVB9fBe3x"
      },
      "id": "-KWkVB9fBe3x"
    },
    {
      "cell_type": "markdown",
      "source": [
        "Identify drying trends:\n",
        "\n",
        "Identify the driest 10th percentile of the ensemble at the end of the horizon"
      ],
      "metadata": {
        "id": "3EN1hd-ThVWW"
      },
      "id": "3EN1hd-ThVWW"
    },
    {
      "cell_type": "code",
      "source": [
        "# Step 1: Select the last row (end of the time horizon)\n",
        "# Step 2: Calculate the 10th percentile for the last row\n",
        "# Step 3: Identify the time series that fall into the lowest 10th percentile\n",
        "\n",
        "last_row = annual_df_rol20.iloc[-1]\n",
        "percentile_10 = last_row.quantile(0.1)\n",
        "\n",
        "driest_projections = last_row[last_row <= percentile_10].index\n",
        "\n",
        "# Step 4: Plot all time series, with the lowest 10th percentile in red\n",
        "fig, ax = plt.subplots(figsize=(10, 6))\n",
        "# Plot all projections in blue\n",
        "annual_df_rol20.plot(ax = ax, legend = None, color='blue', alpha=0.5)\n",
        "# Highlight lowest 10th percentile time series in red\n",
        "annual_df_rol20[driest_projections].plot(ax = ax, color='red')\n",
        "\n",
        "plt.title('Climate Projections with Highlighted Lowest 10th Percentile at End of Time Horizon')\n",
        "plt.xlabel('Time')\n",
        "plt.ylabel('Value')\n",
        "plt.show()"
      ],
      "metadata": {
        "id": "3o9zFsF7hMpy"
      },
      "id": "3o9zFsF7hMpy",
      "execution_count": null,
      "outputs": []
    },
    {
      "cell_type": "markdown",
      "source": [
        "### Variance"
      ],
      "metadata": {
        "id": "K0u-uXvtkXfq"
      },
      "id": "K0u-uXvtkXfq"
    },
    {
      "cell_type": "markdown",
      "source": [
        "Identify scenarios with highest interannual variability.\n",
        "For this analysis, let's use annual values rather than 20-year rolling means"
      ],
      "metadata": {
        "id": "QjGdUTTEkaPC"
      },
      "id": "QjGdUTTEkaPC"
    },
    {
      "cell_type": "code",
      "source": [
        "# Step 1: Calculate the standard deviation for each projection\n",
        "# Step 2: Determine the threshold for the top 5th percentile\n",
        "# Step 3: Identify the projections in the top 5th percentile of variability\n",
        "\n",
        "\n",
        "\n",
        "# Step 4: Plot all projections in blue, with top variability projections in red\n",
        "# Note: we plot the rolling mean projections for readability\n",
        "\n",
        "fig, ax = plt.subplots(figsize=(10, 6))\n",
        "# Plot all projections in blue\n",
        "annual_df_rol20.plot(ax = ax, legend = None, color='blue', alpha=0.5)\n",
        "# Highlight time series in red\n",
        "annual_df_rol20[most_variable_projections].plot(ax = ax, color='red')\n",
        "\n",
        "plt.title('Climate Projections with HighlightedMost variable projections')\n",
        "plt.xlabel('Time')\n",
        "plt.ylabel('Value')\n",
        "plt.show()"
      ],
      "metadata": {
        "id": "5XXjM7TpkZta"
      },
      "id": "5XXjM7TpkZta",
      "execution_count": null,
      "outputs": []
    },
    {
      "cell_type": "markdown",
      "source": [
        "### Discussion:\n",
        "We developed code to identify:\n",
        "\n",
        "1) changes in indicators (annual 1-day peak flow)\n",
        "\n",
        "2) most pronounced trends (dryest 10th percentile, we could do the same for wettest prct)\n",
        "\n",
        "3) most pronounced interannual variability\n",
        "\n",
        "Why is such an analysis useful?"
      ],
      "metadata": {
        "id": "X2A-TmmmlNq9"
      },
      "id": "X2A-TmmmlNq9"
    },
    {
      "cell_type": "markdown",
      "id": "armed-curtis",
      "metadata": {
        "id": "armed-curtis"
      },
      "source": [
        "----------------"
      ]
    }
  ],
  "metadata": {
    "colab": {
      "provenance": [],
      "include_colab_link": true
    },
    "kernelspec": {
      "display_name": "Python 3 (ipykernel)",
      "language": "python",
      "name": "python3"
    },
    "language_info": {
      "codemirror_mode": {
        "name": "ipython",
        "version": 3
      },
      "file_extension": ".py",
      "mimetype": "text/x-python",
      "name": "python",
      "nbconvert_exporter": "python",
      "pygments_lexer": "ipython3",
      "version": "3.9.12"
    }
  },
  "nbformat": 4,
  "nbformat_minor": 5
}