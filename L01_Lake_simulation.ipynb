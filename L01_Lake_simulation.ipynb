{
  "cells": [
    {
      "cell_type": "markdown",
      "metadata": {
        "id": "view-in-github",
        "colab_type": "text"
      },
      "source": [
        "<a href=\"https://colab.research.google.com/github/m-zaniolo/CEE690-ESAA/blob/main/L01_Lake_simulation.ipynb\" target=\"_parent\"><img src=\"https://colab.research.google.com/assets/colab-badge.svg\" alt=\"Open In Colab\"/></a>"
      ]
    },
    {
      "cell_type": "markdown",
      "id": "filled-mixture",
      "metadata": {
        "tags": [],
        "id": "filled-mixture"
      },
      "source": [
        "\n",
        "\n",
        "# Lab 1\n",
        "_____________\n"
      ]
    },
    {
      "cell_type": "markdown",
      "id": "arranged-carpet",
      "metadata": {
        "id": "arranged-carpet"
      },
      "source": [
        "\n",
        "\n",
        "## _Load data and plot_"
      ]
    },
    {
      "cell_type": "markdown",
      "id": "monthly-bathroom",
      "metadata": {
        "id": "monthly-bathroom"
      },
      "source": [
        "We'll use the `loadtxt` function from numpy to read the txt. It can be used for .csv files as well.\n",
        "\n",
        "The delimiter is a tab `\\t`. Other options might be space `\\s` or comma `,`.\n"
      ]
    },
    {
      "cell_type": "code",
      "execution_count": null,
      "id": "streaming-telephone",
      "metadata": {
        "id": "streaming-telephone"
      },
      "outputs": [],
      "source": [
        "import numpy as np\n",
        "import matplotlib.pyplot as plt\n",
        "plt.rcParams['figure.dpi'] = 600\n",
        "\n",
        "url = 'https://raw.githubusercontent.com/m-zaniolo/CEE690-ESAA/main/data/'\n",
        "inflow = np.loadtxt(url + 'inflow.txt', delimiter='\\t') #m3/s\n",
        "release = np.loadtxt(url + 'release1.txt', delimiter='\\t') #m3/s\n"
      ]
    },
    {
      "cell_type": "markdown",
      "id": "complex-roman",
      "metadata": {
        "id": "complex-roman"
      },
      "source": [
        "#### First plot: time series of inflow"
      ]
    },
    {
      "cell_type": "code",
      "execution_count": null,
      "id": "fiscal-assist",
      "metadata": {
        "id": "fiscal-assist"
      },
      "outputs": [],
      "source": [
        "plt.plot(inflow)\n",
        "plt.xlabel('Days since Jan 1 2001')\n",
        "plt.ylabel('Flow (m3/s)')\n",
        "plt.ylim([0,2000])\n",
        "plt.show()"
      ]
    },
    {
      "cell_type": "markdown",
      "id": "copyrighted-negotiation",
      "metadata": {
        "id": "copyrighted-negotiation"
      },
      "source": [
        "#### Second plot: time series of release outflow\n",
        "\n"
      ]
    },
    {
      "cell_type": "code",
      "execution_count": null,
      "id": "demonstrated-department",
      "metadata": {
        "id": "demonstrated-department"
      },
      "outputs": [],
      "source": [
        "plt.plot(inflow)\n",
        "plt.plot(release)\n",
        "plt.xlabel('Days since Jan 1 2001')\n",
        "plt.ylabel('Flow (m3/s)')\n",
        "plt.legend(['Inflow', 'Release'])\n",
        "plt.show()\n",
        "\n",
        "# optional - save to file\n",
        "# plt.savefig('something.png') # or .pdf, .svg, etc."
      ]
    },
    {
      "cell_type": "markdown",
      "source": [
        "\n",
        "\n",
        "---\n",
        "\n"
      ],
      "metadata": {
        "id": "_OLMyehidUcP"
      },
      "id": "_OLMyehidUcP"
    },
    {
      "cell_type": "markdown",
      "id": "chronic-snowboard",
      "metadata": {
        "id": "chronic-snowboard"
      },
      "source": [
        "## Simulation model\n",
        "\n",
        "Mass balance reservoir simulation. Let's define reservoir characteristics"
      ]
    },
    {
      "cell_type": "code",
      "execution_count": null,
      "id": "colonial-carbon",
      "metadata": {
        "id": "colonial-carbon"
      },
      "outputs": [],
      "source": [
        "S = 1.47e10 #m3\n",
        "H = len(inflow) #length of the simulation horizon\n",
        "evap = np.loadtxt(url + 'netevap_Gibe1.txt', delimiter=' ') # load cyclostationary evaporation\n",
        "sim_step = 60*60*24 #seconds in a day\n",
        "\n",
        "s = np.zeros(H+1)  # allocate storage vector\n",
        "surface = np.zeros(H+1)  # allocate surface vector\n",
        "l = np.zeros(H+1)  # allocate level vector\n",
        "\n",
        "s[0] = S*0.7 # for example, let's inizialize storage value at 70% of the max capacity\n",
        "stor_to_surface = 0.0142  #m2/m3\n",
        "# stor_to_level = 0.0521*storage^0.3589\n"
      ]
    },
    {
      "cell_type": "markdown",
      "id": "attached-cache",
      "metadata": {
        "id": "attached-cache"
      },
      "source": [
        "Simple reservoir mass balance with time convention:\n",
        "\n",
        "storage(t+1) = storage(t) + inflow(t+1) - release(t+1) - evap(t)\n",
        "\n",
        "evaporation is calculated by multiplying net evaporation by the reservoir surface."
      ]
    },
    {
      "cell_type": "code",
      "execution_count": null,
      "id": "similar-start",
      "metadata": {
        "id": "similar-start"
      },
      "outputs": [],
      "source": [
        "# concatenate -999 for convention on variable time step\n",
        "inflow_ = np.concatenate(([-999], inflow))\n",
        "release_ = np.concatenate(([-999], release))\n",
        "\n",
        "#reservoir mass balance\n",
        "for t in range(H):\n",
        "  surface[t] = s[t]*stor_to_surface  # calculate surface from storage\n",
        "  evaporation_t = evap[t%365]/1000/sim_step * surface[t]\n",
        "  s[t+1] = s[t] + (inflow_[t+1] - release_[t+1] - evaporation_t)*sim_step\n",
        "  s[t+1] = min(max(0, s[t+1]), S) #check max and min storage physical constraints\n",
        "\n",
        "# calculate level from the timeseries of storage\n",
        "l = 0.0521*(s**0.3589)\n",
        "\n",
        "\n",
        "plt.subplot(2,1,1)\n",
        "plt.plot(s)\n",
        "plt.ylabel('Storage [m3]')\n",
        "plt.xlabel('days after Jan 1, 2001')\n",
        "plt.ylim([0, S+100])\n",
        "plt.show()\n",
        "\n",
        "plt.subplot(2,1,2)\n",
        "plt.plot(l)\n",
        "plt.ylabel('Level')\n",
        "plt.xlabel('days after Jan 1, 2001')\n",
        "plt.ylim([0, np.max(l)])\n",
        "plt.show()\n",
        "\n"
      ]
    },
    {
      "cell_type": "markdown",
      "source": [
        "We can define a function that performs the mass balance for ease of use:"
      ],
      "metadata": {
        "id": "DrHT9M6iWNo7"
      },
      "id": "DrHT9M6iWNo7"
    },
    {
      "cell_type": "code",
      "source": [
        "def mass_balance_gibeIII(s0, inflow, release, evap, S):\n",
        "\n",
        "  # time convention\n",
        "  inflow_ = np.concatenate(([-999], inflow))\n",
        "  release_ = np.concatenate(([-999], release))\n",
        "\n",
        "  # initialize storage vector\n",
        "  s = np.zeros(len(inflow_))\n",
        "  s[0] = s0\n",
        "\n",
        "  # define constants\n",
        "  H = len(inflow) #length of the simulation horizon\n",
        "  sim_step = 60*60*24 #seconds per day\n",
        "  stor_to_surface = 0.0142\n",
        "\n",
        "\n",
        "  for t in range(H):\n",
        "    evaporation_t = evap[t%365]/1000*s[t]*stor_to_surface/sim_step\n",
        "    s[t+1] = s[t] + (inflow_[t+1] - release_[t+1] - evaporation_t)*sim_step\n",
        "    s[t+1] = min(max(0, s[t+1]), S) #check max and min storage physical constraints\n",
        "\n",
        "  l = 0.0521*(s**0.3589)\n",
        "\n",
        "  return s, l\n",
        "\n",
        "# this function can be called as:\n",
        "s0 = S*0.7\n",
        "s,l = mass_balance_gibeIII(s0, inflow, release, evap)\n"
      ],
      "metadata": {
        "id": "BeaQqWgqeqoG"
      },
      "id": "BeaQqWgqeqoG",
      "execution_count": null,
      "outputs": []
    },
    {
      "cell_type": "markdown",
      "id": "discrete-sheet",
      "metadata": {
        "id": "discrete-sheet"
      },
      "source": [
        "Functions are advantageous when a piece of code needs to be utilized multiple times, for instace in the case we want to test several release strategies:\n",
        "\n"
      ]
    },
    {
      "cell_type": "code",
      "source": [
        "r1 = release\n",
        "r2 = np.loadtxt(url + 'release2.txt', delimiter='\\t')\n",
        "r3 = np.loadtxt(url + 'release3.txt', delimiter='\\t')\n",
        "r4 = np.loadtxt(url + 'release4.txt', delimiter='\\t')\n",
        "\n",
        "s1,l1 = mass_balance_gibeIII(s0, inflow, r1, evap, S)\n",
        "s2,l2 = mass_balance_gibeIII(s0, inflow, r2, evap, S)\n",
        "s3,l3 = mass_balance_gibeIII(s0, inflow, r3, evap, S)\n",
        "s4,l4 = mass_balance_gibeIII(s0, inflow, r4, evap, S)\n",
        "\n",
        "plt.plot(l1, label = 'l1')\n",
        "plt.plot(l2, label = 'l2')\n",
        "plt.plot(l3, label = 'l3')\n",
        "plt.plot(l4, label = 'l4')\n",
        "plt.ylim([0, 233])\n",
        "plt.legend()\n"
      ],
      "metadata": {
        "id": "dIyAD4dOf6Va"
      },
      "id": "dIyAD4dOf6Va",
      "execution_count": null,
      "outputs": []
    },
    {
      "cell_type": "code",
      "source": [
        "#Save the timeseries of levels\n",
        "\n",
        "np.savetxt('level1.txt', l1, delimiter='\\t')\n",
        "np.savetxt('level2.txt', l2, delimiter='\\t')\n",
        "np.savetxt('level3.txt', l3, delimiter='\\t')\n",
        "np.savetxt('level4.txt', l4, delimiter='\\t')"
      ],
      "metadata": {
        "id": "bfisuMyfi2_X"
      },
      "id": "bfisuMyfi2_X",
      "execution_count": null,
      "outputs": []
    },
    {
      "cell_type": "markdown",
      "id": "determined-sailing",
      "metadata": {
        "id": "determined-sailing"
      },
      "source": [
        "------------"
      ]
    }
  ],
  "metadata": {
    "kernelspec": {
      "display_name": "Python 3 (ipykernel)",
      "language": "python",
      "name": "python3"
    },
    "language_info": {
      "codemirror_mode": {
        "name": "ipython",
        "version": 3
      },
      "file_extension": ".py",
      "mimetype": "text/x-python",
      "name": "python",
      "nbconvert_exporter": "python",
      "pygments_lexer": "ipython3",
      "version": "3.9.12"
    },
    "colab": {
      "provenance": [],
      "include_colab_link": true
    }
  },
  "nbformat": 4,
  "nbformat_minor": 5
}